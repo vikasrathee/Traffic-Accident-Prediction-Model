{
 "cells": [
  {
   "cell_type": "code",
   "execution_count": 12,
   "metadata": {
    "collapsed": true
   },
   "outputs": [],
   "source": [
    "import tensorflow as tf\n",
    "import pandas as pd\n",
    "import numpy as np\n",
    "import os\n",
    "import matplotlib.pyplot as plt\n",
    "import random\n",
    "%matplotlib inline"
   ]
  },
  {
   "cell_type": "code",
   "execution_count": 13,
   "metadata": {
    "collapsed": false
   },
   "outputs": [
    {
     "data": {
      "image/png": "[encoded data removed]",
      "text/plain": [
       "<matplotlib.figure.Figure at 0x10f76c4d0>"
      ]
     },
     "metadata": {},
     "output_type": "display_data"
    },
    {
     "data": {
      "text/plain": [
       "2000-01-31    -6.185987\n",
       "2000-02-29   -16.034014\n",
       "2000-03-31   -19.209481\n",
       "2000-04-30   -10.667441\n",
       "2000-05-31   -11.745630\n",
       "2000-06-30   -20.509596\n",
       "2000-07-31   -16.838063\n",
       "2000-08-31   -26.200120\n",
       "2000-09-30   -28.675667\n",
       "2000-10-31   -20.818395\n",
       "Freq: M, dtype: float64"
      ]
     },
     "execution_count": 13,
     "metadata": {},
     "output_type": "execute_result"
    }
   ],
   "source": [
    "random.seed(111)\n",
    "rang = pd.date_range(start='2000', periods=209, freq='M')\n",
    "ts = pd.Series(np.random.uniform(-10,10,size=len(rang)),rang).cumsum()\n",
    "ts.plot(c='b',title=\"SampleTimeSeries\")\n",
    "plt.show()\n",
    "ts.head(10)\n",
    "               "
   ]
  },
  {
   "cell_type": "code",
   "execution_count": 22,
   "metadata": {
    "collapsed": false
   },
   "outputs": [
    {
     "name": "stdout",
     "output_type": "stream",
     "text": [
      "10\n",
      "(10, 20, 1)\n",
      "[[[ -6.18598693]\n",
      "  [-16.0340145 ]\n",
      "  [-19.20948085]\n",
      "  [-10.66744143]\n",
      "  [-11.74562973]\n",
      "  [-20.50959627]\n",
      "  [-16.83806269]\n",
      "  [-26.20011976]\n",
      "  [-28.67566711]\n",
      "  [-20.81839521]\n",
      "  [-27.61020731]\n",
      "  [-24.42352419]\n",
      "  [-22.1117986 ]\n",
      "  [-27.10353072]\n",
      "  [-33.18959628]\n",
      "  [-29.46393123]\n",
      "  [-27.46874691]\n",
      "  [-28.94503269]\n",
      "  [-23.92189993]\n",
      "  [-17.95910008]]\n",
      "\n",
      " [[-22.53376376]\n",
      "  [-28.41602946]\n",
      "  [-26.15955234]\n",
      "  [-24.69389849]\n",
      "  [-16.89493921]\n",
      "  [-20.65927854]\n",
      "  [-29.82877322]\n",
      "  [-22.98801232]\n",
      "  [-31.45067419]\n",
      "  [-39.75521322]\n",
      "  [-39.805979  ]\n",
      "  [-39.63069849]\n",
      "  [-31.34144257]\n",
      "  [-25.83565516]\n",
      "  [-21.63262432]\n",
      "  [-22.80139277]\n",
      "  [-30.26956552]\n",
      "  [-22.63131409]\n",
      "  [-22.70671877]\n",
      "  [-23.88651125]]]\n",
      "[[[-16.0340145 ]\n",
      "  [-19.20948085]\n",
      "  [-10.66744143]\n",
      "  [-11.74562973]\n",
      "  [-20.50959627]\n",
      "  [-16.83806269]\n",
      "  [-26.20011976]\n",
      "  [-28.67566711]\n",
      "  [-20.81839521]\n",
      "  [-27.61020731]\n",
      "  [-24.42352419]\n",
      "  [-22.1117986 ]\n",
      "  [-27.10353072]\n",
      "  [-33.18959628]\n",
      "  [-29.46393123]\n",
      "  [-27.46874691]\n",
      "  [-28.94503269]\n",
      "  [-23.92189993]\n",
      "  [-17.95910008]\n",
      "  [-22.53376376]]]\n",
      "3\n"
     ]
    }
   ],
   "source": [
    "TS = np.array(ts)\n",
    "num_periods = 20\n",
    "f_horizon = 1 # this has to be edited\n",
    "\n",
    "x_data = TS[:(len(TS)-(len(TS) % num_periods))]\n",
    "x_batches = x_data.reshape(-1,20,1)\n",
    "\n",
    "y_data = TS[1:(len(TS)-(len(TS) % num_periods)) + f_horizon]\n",
    "y_batches = y_data.reshape(-1,20,1)\n",
    "\n",
    "print(len(x_batches))\n",
    "print(x_batches.shape)\n",
    "print(x_batches[0:2])\n",
    "\n",
    "print(y_batches[0:1])\n",
    "print(len(y_batches.shape))"
   ]
  },
  {
   "cell_type": "code",
   "execution_count": null,
   "metadata": {
    "collapsed": true
   },
   "outputs": [],
   "source": [
    "def test_data(series,forecast,num_periods):\n",
    "    test_x_setup = TS[-(num_preiods + forecast):]\n",
    "    "
   ]
  },
  {
   "cell_type": "code",
   "execution_count": null,
   "metadata": {
    "collapsed": true
   },
   "outputs": [],
   "source": []
  }
 ],
 "metadata": {
  "kernelspec": {
   "display_name": "Python 2",
   "language": "python",
   "name": "python2"
  },
  "language_info": {
   "codemirror_mode": {
    "name": "ipython",
    "version": 2
   },
   "file_extension": ".py",
   "mimetype": "text/x-python",
   "name": "python",
   "nbconvert_exporter": "python",
   "pygments_lexer": "ipython2",
   "version": "2.7.13"
  }
 },
 "nbformat": 4,
 "nbformat_minor": 2
}
