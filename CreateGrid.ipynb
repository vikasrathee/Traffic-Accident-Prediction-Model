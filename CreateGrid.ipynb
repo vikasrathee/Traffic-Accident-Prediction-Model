{
 "cells": [
  {
   "cell_type": "code",
   "execution_count": 1,
   "metadata": {
    "collapsed": false
   },
   "outputs": [],
   "source": [
    "import shapefile as shp\n",
    "import math\n",
    "\n",
    "minx,maxx,miny,maxy = -80,-74,37.75,39.75\n",
    "dx = .1\n",
    "dy = .1\n",
    "\n",
    "nx = int(math.ceil(abs(maxx - minx)/dx))\n",
    "ny = int(math.ceil(abs(maxy - miny)/dy))\n",
    "\n",
    "w = shp.Writer(shp.POLYGON)\n",
    "w.autoBalance = 1\n",
    "w.field(\"ID\")\n",
    "id=0\n",
    "\n",
    "for i in range(ny):\n",
    "    for j in range(nx):\n",
    "        id+=1\n",
    "        vertices = []\n",
    "        parts = []\n",
    "        vertices.append([min(minx+dx*j,maxx),max(maxy-dy*i,miny)])\n",
    "        vertices.append([min(minx+dx*(j+1),maxx),max(maxy-dy*i,miny)])\n",
    "        vertices.append([min(minx+dx*(j+1),maxx),max(maxy-dy*(i+1),miny)])\n",
    "        vertices.append([min(minx+dx*j,maxx),max(maxy-dy*(i+1),miny)])\n",
    "        parts.append(vertices)\n",
    "        w.poly(parts)\n",
    "        w.record(id)\n",
    "\n",
    "w.save('grid.shp')"
   ]
  },
  {
   "cell_type": "code",
   "execution_count": null,
   "metadata": {
    "collapsed": true
   },
   "outputs": [],
   "source": []
  },
  {
   "cell_type": "code",
   "execution_count": null,
   "metadata": {
    "collapsed": true
   },
   "outputs": [],
   "source": []
  }
 ],
 "metadata": {
  "kernelspec": {
   "display_name": "Python 2",
   "language": "python",
   "name": "python2"
  },
  "language_info": {
   "codemirror_mode": {
    "name": "ipython",
    "version": 2
   },
   "file_extension": ".py",
   "mimetype": "text/x-python",
   "name": "python",
   "nbconvert_exporter": "python",
   "pygments_lexer": "ipython2",
   "version": "2.7.11"
  }
 },
 "nbformat": 4,
 "nbformat_minor": 2
}
